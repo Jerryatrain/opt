{
 "cells": [
  {
   "cell_type": "code",
   "execution_count": 2,
   "metadata": {},
   "outputs": [],
   "source": [
    "import os\n",
    "import time\n",
    "\n",
    "import numpy\n",
    "import pandas as pd\n",
    "import numpy as np\n",
    "import cvxpy as cp\n",
    "from datetime import timedelta\n",
    "import job_config as jc\n",
    "import model_config as mc\n",
    "# from Functions.doc_functions import *\n",
    "import matplotlib.pyplot as plt\n",
    "plt.rcParams['font.sans-serif']=['Arial Unicode MS']#用来正常显示中文标签\n",
    "plt.rcParams['axes.unicode_minus']=False#用来正常显示负号\n",
    "import matplotlib\n",
    "matplotlib.use('Agg')  # 不显示图片\n",
    "\n"
   ]
  },
  {
   "cell_type": "code",
   "execution_count": 2,
   "metadata": {},
   "outputs": [
    {
     "name": "stderr",
     "output_type": "stream",
     "text": [
      "Matplotlib is building the font cache; this may take a moment.\n"
     ]
    },
    {
     "name": "stdout",
     "output_type": "stream",
     "text": [
      "{'Gurmukhi MN', 'Verdana', 'STHeiti', 'Bodoni 72 Oldstyle', 'Noto Sans Elbasan', 'Noto Sans Siddham', 'Noto Sans Mandaic', 'Nanum Myeongjo', 'Noto Sans Lisu', 'DejaVu Serif', 'Noto Sans Old Hungarian', 'Noto Sans Old Permic', 'Impact', 'PingFang HK', 'BM Dohyeon', 'Iowan Old Style', 'Sinhala Sangam MN', 'DejaVu Sans Display', 'Athelas', 'Party LET', 'Noto Sans Batak', 'Bodoni 72', 'Chalkboard SE', 'KufiStandardGK', 'Brush Script MT', 'Marker Felt', 'Hiragino Maru Gothic Pro', 'Herculanum', 'Noto Sans Osage', 'Noto Sans Tai Le', 'Hiragino Sans CNS', 'Noto Sans Newa', 'Mishafi Gold', 'Kannada MN', 'Ayuthaya', 'cmb10', 'Academy Engraved LET', 'Khmer Sangam MN', 'System Font', 'STIXIntegralsD', 'Phosphate', '.SF Hebrew Rounded', 'Apple SD Gothic Neo', 'Noto Sans Osmanya', 'Diwan Thuluth', 'SignPainter', 'Sinhala MN', 'Noto Sans NKo', 'Libian SC', 'Bangla MN', 'Bangla Sangam MN', 'Noto Sans Adlam', 'Lao Sangam MN', 'Noto Sans Duployan', 'Noto Sans Multani', 'Noto Sans Buhid', 'Noto Sans Wancho', '.SF Camera', 'Noto Sans Old North Arabian', 'Noto Sans Armenian', 'Times', 'Plantagenet Cherokee', 'BM Jua', 'Damascus', 'Noto Sans Glagolitic', 'SimSong', 'DejaVu Sans', 'BM Hanna Pro', 'Malayalam MN', '.Keyboard', 'YuMincho', 'Noto Sans Sora Sompeng', 'HanziPen SC', 'Noto Sans Hanunoo', 'cmex10', 'Wawati TC', 'Zapfino', 'STIXIntegralsUpSm', 'Noteworthy', 'Noto Sans Myanmar', 'Noto Sans Mro', 'BM Hanna Air', 'Apple LiGothic', 'Noto Sans Caucasian Albanian', 'LiSong Pro', 'PT Sans', 'Noto Sans Buginese', '.SF Compact', 'Devanagari MT', 'Noto Sans Rejang', 'Noto Sans Old Turkic', 'Noto Sans Inscriptional Parthian', 'Noto Sans Miao', 'PT Mono', 'Kokonor', 'Mukta Mahee', 'Helvetica', 'STIX Two Text', 'Helvetica Neue', 'Sukhumvit Set', 'Wingdings 3', 'STIXVariants', 'Noto Sans Tirhuta', 'Courier', 'Gurmukhi MT', 'Noto Sans Old Italic', 'Noto Sans Syloti Nagri', 'Noto Sans Kannada', 'Futura', 'Noto Sans Coptic', 'AppleGothic', 'STIXIntegralsUp', 'Geeza Pro', 'Noto Sans Old South Arabian', 'HeadLineA', 'PSL Ornanong Pro', 'Noto Sans Samaritan', 'Hannotate SC', 'Kohinoor Bangla', 'Noto Sans Pau Cin Hau', 'Noto Sans Oriya', 'STIXSizeFiveSym', 'Heiti TC', 'Noto Sans Imperial Aramaic', 'PilGi', 'Oriya Sangam MN', 'Noto Sans Pahawh Hmong', 'Noto Serif Ahom', 'Noto Serif Yezidi', 'Gill Sans', 'Sathu', '.SF Georgian Rounded', 'Noto Sans Thaana', 'cmr10', 'Noto Sans Manichaean', 'Noto Sans Palmyrene', 'Khmer MN', 'Osaka', 'Avenir', 'Weibei TC', 'Gujarati Sangam MN', 'STIXSizeThreeSym', 'BM Yeonsung', '.ThonburiUI', 'Shree Devanagari 714', 'Copperplate', 'Kefa', 'Lucida Grande', 'Snell Roundhand', 'GungSeo', 'Noto Sans Mongolian', 'Bodoni 72 Smallcaps', 'Hiragino Sans', 'InaiMathi', 'Webdings', 'Klee', 'Avenir Next', 'Noto Sans Limbu', 'Apple Braille', 'Xingkai SC', 'Hoefler Text', 'YuKyokasho Yoko', 'AppleMyungjo', 'Euphemia UCAS', 'STIX Two Math', 'Oriya MN', 'Toppan Bunkyu Mincho', 'Noto Sans New Tai Lue', 'Baghdad', 'Noto Serif Myanmar', '.Aqua Kana', 'Trattatello', 'Noto Sans Phoenician', 'Mishafi', 'Noto Sans Cham', 'Noto Sans Egyptian Hieroglyphs', 'DecoType Naskh', 'Noto Sans Mende Kikakui', 'Noto Sans Gunjala Gondi', 'Noto Sans Brahmi', 'Noto Sans Linear B', 'Kohinoor Gujarati', 'Superclarendon', 'Savoye LET', 'Arial Hebrew', 'PCMyungjo', 'Myanmar MN', 'Raanana', 'Gurmukhi Sangam MN', 'Yuanti SC', 'Noto Sans Avestan', 'Luminari', 'Noto Sans Old Persian', 'Malayalam Sangam MN', 'Weibei SC', 'Noto Sans Bhaiksuki', '.SF Georgian', 'Andale Mono', 'Noto Sans Bamum', 'BIZ UDMincho', 'Noto Nastaliq Urdu', 'Noto Sans Ugaritic', 'Nanum Gothic', 'LingWai TC', 'Yuppy TC', 'ITF Devanagari', 'STIXIntegralsSm', 'Krungthep', 'Baoli SC', 'cmss10', 'Tamil Sangam MN', 'Noto Sans Canadian Aboriginal', 'Noto Sans Cuneiform', 'Charter', 'Arial Rounded MT Bold', 'Noto Sans Mahajani', 'Noto Sans Modi', 'Hiragino Sans GB', 'Devanagari Sangam MN', '.SF Arabic Rounded', 'Noto Sans Meetei Mayek', 'Noto Sans Lepcha', 'Noto Sans Saurashtra', 'LingWai SC', 'American Typewriter', 'Arial Black', 'STIXSizeFourSym', '.SF Arabic', 'Symbol', 'Microsoft Sans Serif', 'Arial Unicode MS', 'Beirut', 'Farah', 'Noto Sans Hanifi Rohingya', 'DIN Alternate', 'Noto Serif Balinese', 'Geneva', 'Noto Sans Marchen', '.New York', 'Toppan Bunkyu Gothic', 'Georgia', 'Noto Sans Kayah Li', 'YuGothic', 'Tamil MN', 'BM Hanna 11yrs Old', 'Noto Sans Syriac', 'Mshtakan', 'Menlo', 'STIXNonUnicode', '.SF NS Rounded', 'Noto Sans Cypriot', 'Tahoma', 'Noto Sans Inscriptional Pahlavi', 'DIN Condensed', 'Hiragino Mincho ProN', 'Apple Chancery', 'Noto Sans Kaithi', 'Kaiti SC', 'LiHei Pro', 'Noto Sans Gothic', 'Wingdings 2', 'Marion', 'Noto Sans Yi', 'Kohinoor Telugu', 'cmmi10', 'Noto Sans Javanese', 'Papyrus', 'Noto Sans Carian', 'Thonburi', 'Kai', 'STIXIntegralsUpD', 'Al Bayan', 'cmtt10', 'DejaVu Serif Display', 'Al Nile', 'Noto Sans PhagsPa', 'STIXGeneral', '.SF Armenian', 'Noto Sans Tagbanwa', 'BM Kirang Haerang', 'Noto Sans Warang Citi', 'Noto Sans Tai Viet', 'Galvji', 'Times New Roman', 'Kohinoor Devanagari', 'Silom', '.SF NS Mono', 'Nanum Brush Script', 'Telugu Sangam MN', 'Waseem', 'Gujarati MT', 'New Peninim MT', 'Yuppy SC', 'PT Serif Caption', 'Bradley Hand', '.SF Armenian Rounded', 'Toppan Bunkyu Midashi Mincho', 'Apple Symbols', 'Wingdings', 'BiauKaiHK', 'Noto Sans Ol Chiki', 'Telugu MN', 'STIXSizeOneSym', 'Chalkduster', 'Arial Narrow', 'Al Tarikh', 'Lao MN', 'Courier New', 'Noto Sans Bassa Vah', 'Monaco', 'Tsukushi B Round Gothic', 'Noto Sans Lydian', '.SF Soft Numeric', 'Apple LiSung', 'Noto Sans Vai', 'Toppan Bunkyu Midashi Gothic', 'DejaVu Sans Mono', 'Lantinghei SC', 'Noto Sans Kharoshthi', 'Tsukushi A Round Gothic', 'Songti SC', '.SF Compact Rounded', 'Noto Sans Tai Tham', 'BIZ UDGothic', 'Wawati SC', 'Cochin', 'Muna', 'STFangsong', 'Noto Sans Takri', 'Hei', 'Kailasa', 'Didot', 'Noto Sans Linear A', 'Noto Sans Chakma', 'Arial', 'Noto Sans Masaram Gondi', 'Palatino', '.SF Hebrew', 'Comic Sans MS', 'STIXSizeTwoSym', 'Avenir Next Condensed', 'Seravek', 'Chalkboard', 'Farisi', 'Noto Sans Sundanese', 'Myanmar Sangam MN', 'Noto Sans Meroitic', 'Noto Sans Khojki', 'Bodoni Ornaments', 'Noto Sans Tifinagh', 'Noto Sans Nabataean', 'Kannada Sangam MN', 'Diwan Kufi', 'Noto Sans Khudawadi', 'Noto Sans Hatran', 'Sana', 'Big Caslon', 'Rockwell', 'Trebuchet MS', 'Noto Sans Tagalog', 'Skia', 'Corsiva Hebrew', 'PT Serif', 'Nadeem', 'Noto Sans Lycian', 'Noto Sans Sharada', 'Noto Sans Psalter Pahlavi', 'Baskerville', 'Optima', 'cmsy10', 'Zapf Dingbats', 'Noto Serif Hmong Nyiakeng'}\n"
     ]
    }
   ],
   "source": [
    "from matplotlib.font_manager import FontManager\n",
    "fm = FontManager()\n",
    "mat_fonts = set(f.name for f in fm.ttflist)\n",
    "print(mat_fonts)"
   ]
  },
  {
   "cell_type": "code",
   "execution_count": 3,
   "metadata": {},
   "outputs": [],
   "source": [
    "# test for chinese\n",
    "ax, fig = plt.subplots()\n",
    "plt.plot([1,2,3,4])\n",
    "plt.title(\"测试\")\n",
    "file_name = 'test_fig_save'\n",
    "plt.savefig(os.path.join(file_name, 'holding_value.jpg'), dpi=1000)"
   ]
  },
  {
   "cell_type": "code",
   "execution_count": null,
   "metadata": {},
   "outputs": [],
   "source": []
  }
 ],
 "metadata": {
  "kernelspec": {
   "display_name": "learn",
   "language": "python",
   "name": "python3"
  },
  "language_info": {
   "codemirror_mode": {
    "name": "ipython",
    "version": 3
   },
   "file_extension": ".py",
   "mimetype": "text/x-python",
   "name": "python",
   "nbconvert_exporter": "python",
   "pygments_lexer": "ipython3",
   "version": "3.9.19"
  }
 },
 "nbformat": 4,
 "nbformat_minor": 2
}
