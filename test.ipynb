{
 "cells": [
  {
   "cell_type": "code",
   "execution_count": 3,
   "metadata": {},
   "outputs": [],
   "source": [
    "import os\n",
    "import time\n",
    "\n",
    "import numpy\n",
    "import pandas as pd\n",
    "import numpy as np\n",
    "import cvxpy as cp\n",
    "from datetime import timedelta\n",
    "import job_config as jc\n",
    "import model_config as mc\n",
    "# from Functions.doc_functions import *\n",
    "import matplotlib.pyplot as plt\n",
    "plt.rcParams['font.sans-serif']=['SimHei']#用来正常显示中文标签\n",
    "plt.rcParams['axes.unicode_minus']=False#用来正常显示负号\n",
    "import matplotlib\n",
    "matplotlib.use('Agg')  # 不显示图片\n",
    "\n"
   ]
  },
  {
   "cell_type": "code",
   "execution_count": null,
   "metadata": {},
   "outputs": [],
   "source": []
  },
  {
   "cell_type": "code",
   "execution_count": 2,
   "metadata": {},
   "outputs": [
    {
     "name": "stdout",
     "output_type": "stream",
     "text": [
      "{'OCR A Extended', 'Franklin Gothic Demi', 'Engravers MT', 'STZhongsong', 'Lucida Sans Unicode', 'Playbill', 'Microsoft Tai Le', 'Harrington', 'Thorndale AMT', 'FZYaoTi', 'Californian FB', 'cmsy10', 'MS Outlook', 'Kristen ITC', 'MS Mincho', 'STIXSizeFourSym', 'Microsoft Uighur', 'SimSun-ExtB', 'remixicon', 'Tw Cen MT Condensed Extra Bold', 'Copperplate Gothic Light', 'Tw Cen MT', 'Bradley Hand ITC', 'Javanese Text', 'Century Gothic', 'Colonna MT', 'Century Schoolbook', 'STIXGeneral', 'High Tower Text', 'Nirmala UI', 'Georgia', 'KaiTi', 'Noto Sans TC', 'Jokerman', 'Berlin Sans FB Demi', 'Blackadder ITC', 'cmmi10', 'Segoe Print', 'Microsoft Himalaya', 'STKaiti', 'STIXNonUnicode', 'Calibri', 'Lucida Sans Typewriter', 'CSongGB18030C-Light', 'Broadway', 'Segoe UI Variable', 'Juice ITC', 'Rage Italic', 'Times New Roman Symbol', 'Arial Symbol', 'Perpetua', 'codicon', 'Onyx', 'Century', 'Verdana', 'sas-icons', 'Microsoft JhengHei', 'ZWAdobeF', 'DejaVu Serif', 'cmtt10', 'Franklin Gothic Book', 'Kunstler Script', 'Arial Unicode MS', 'Tahoma', 'Font Awesome 5 Free Regular', 'Modern No. 20', 'Segoe UI Symbol', 'Microsoft New Tai Lue', 'Tw Cen MT Condensed', 'Britannic Bold', 'Yu Gothic', 'STIXSizeTwoSym', 'Consolas', 'Eras Medium ITC', 'Helvetica Neue for SAS', 'Old English Text MT', 'Symbola', 'Chiller', 'SAS Monospace', 'Franklin Gothic Heavy', 'Stencil', 'Snap ITC', 'Garamond', 'Batang', 'Segoe Script', 'Gill Sans MT Condensed', 'Monotype Corsiva', 'Magneto', 'Algerian', 'CSongGB18030C-LightHWL', 'Arial', 'HoloLens MDL2 Assets', 'Showcard Gothic', 'Sylfaen', 'Noto Sans SC', 'Papyrus', 'Font Awesome 5 Free Solid', 'Bauhaus 93', 'Corbel', 'Webdings', 'Poor Richard', 'Lucida Handwriting', 'Times New Roman Uni', 'STXingkai', 'Script MT Bold', 'Vivaldi', 'Curlz MT', 'Microsoft YaHei', 'Gloucester MT Extra Condensed', 'LastResort', 'Bookshelf Symbol 7', 'Albany AMT', 'Leelawadee UI', 'DejaVu Sans Display', 'Centaur', 'Matura MT Script Capitals', 'Mistral', 'Wide Latin', 'Bahnschrift', 'Informal Roman', 'Footlight MT Light', 'Wingdings 3', 'STXinwei', 'Brush Script MT', 'MYingHei_18030_C-Medium', 'Freestyle Script', 'SimHei', 'MS Reference Specialty', 'STSong', 'Gigi', 'Ink Free', 'Bookman Old Style', 'Gill Sans MT Ext Condensed Bold', 'Microsoft Yi Baiti', 'elusiveicons', 'Noto Sans Thai', 'MingLiU-ExtB', 'Segoe MDL2 Assets', 'HeiT', 'Gill Sans Ultra Bold', 'Monotype Sorts', 'Copperplate Gothic Bold', 'Noto Sans', 'Mongolian Baiti', 'Eras Light ITC', 'Symbol MT', 'Noto Sans KR', 'Avenir Next for SAS', 'Myanmar Text', 'Palace Script MT', 'Goudy Old Style', 'STIXSizeFiveSym', 'STIXSizeThreeSym', 'MingLiU', 'MV Boli', 'Lucida Fax', 'cmss10', 'cmex10', 'Malgun Gothic', 'MS Gothic', 'FZShuTi', 'SimSun', 'Gulim', 'Agency FB', 'Lucida Calligraphy', 'Sitka', 'Arial Rounded MT Bold', 'Gill Sans MT', 'Bodoni MT', 'Book Antiqua', 'Cooper Black', 'STHupo', 'Courier New', 'Wingdings', 'cmr10', 'Rockwell Extra Bold', 'STFangsong', 'Dubai', 'DejaVu Sans', 'Gabriola', 'Niagara Solid', 'FangSong', 'Comic Sans MS', 'Tempus Sans ITC', 'Material Design Icons', 'Viner Hand ITC', 'cmb10', 'Parchment', 'Edwardian Script ITC', 'Phosphor', 'Impact', 'Berlin Sans FB', 'SAS Monospace Bold', 'Segoe UI', 'Noto Sans JP', 'Wingdings 2', 'Microsoft Sans Serif', 'Maiandra GD', 'Bell MT', 'Times New Roman', 'Constantia', 'STIXSizeOneSym', 'STXihei', 'Font Awesome 5 Brands', 'Perpetua Titling MT', 'Vladimir Script', 'Harlow Solid Italic', 'Bernard MT Condensed', 'Lucida Sans', 'Trebuchet MS', 'Segoe Fluent Icons', 'Imprint MT Shadow', 'MYingHei_18030_C-MediumHWL', 'Goudy Stout', 'Segoe UI Emoji', 'Symbol', 'Sans Serif Collection', 'Cambria', 'Franklin Gothic Medium', 'DejaVu Serif Display', 'STLiti', 'FontAwesome', 'Rockwell Condensed', 'Castellar', 'French Script MT', 'LiSu', 'Palatino Linotype', 'Cumberland AMT', 'Lucida Bright', 'Eras Bold ITC', 'Elephant', 'pdficons', 'Microsoft PhagsPa', 'Calisto MT', 'DejaVu Sans Mono', 'Lucida Console', 'Material Design Icons 5.9.55', 'Franklin Gothic Demi Cond', 'YouYuan', 'DengXian', 'STCaiyun', 'Ebrima', 'Felix Titling', 'Pristina', 'Baskerville Old Face', 'Niagara Engraved', 'Ravie', 'Leelawadee', 'Haettenschweiler', 'Forte', 'Rockwell', 'Segoe UI Historic', 'MS Reference Sans Serif', 'Candara', 'MT Extra', 'Eras Demi ITC', 'Franklin Gothic Medium Cond', 'Gill Sans Ultra Bold Condensed', 'Gadugi'}\n"
     ]
    }
   ],
   "source": [
    "from matplotlib.font_manager import FontManager\n",
    "fm = FontManager()\n",
    "mat_fonts = set(f.name for f in fm.ttflist)\n",
    "print(mat_fonts)"
   ]
  },
  {
   "cell_type": "code",
   "execution_count": 5,
   "metadata": {},
   "outputs": [],
   "source": [
    "# test for chinese\n",
    "ax, fig = plt.subplots()\n",
    "plt.plot([1,2,3,4])\n",
    "plt.title(\"测试\")\n",
    "\n",
    "plt.savefig(os.path.join( 'holding_value.jpg'), dpi=1000)"
   ]
  },
  {
   "cell_type": "code",
   "execution_count": 5,
   "metadata": {},
   "outputs": [
    {
     "data": {
      "text/plain": [
       "False"
      ]
     },
     "execution_count": 5,
     "metadata": {},
     "output_type": "execute_result"
    }
   ],
   "source": []
  },
  {
   "cell_type": "code",
   "execution_count": 6,
   "metadata": {},
   "outputs": [],
   "source": [
    "file_name = 'test_fig_save'\n",
    "if not os.path.exists(file_name):\n",
    "    os.makedirs(file_name)"
   ]
  },
  {
   "cell_type": "code",
   "execution_count": 4,
   "metadata": {},
   "outputs": [
    {
     "name": "stdout",
     "output_type": "stream",
     "text": [
      "1\n"
     ]
    }
   ],
   "source": [
    "barra_beta = 1 \n",
    "barra_index = 'beta'\n",
    "\n",
    "print(eval('barra_%s'%barra_index))"
   ]
  },
  {
   "cell_type": "code",
   "execution_count": null,
   "metadata": {},
   "outputs": [],
   "source": []
  }
 ],
 "metadata": {
  "kernelspec": {
   "display_name": "learn",
   "language": "python",
   "name": "python3"
  },
  "language_info": {
   "codemirror_mode": {
    "name": "ipython",
    "version": 3
   },
   "file_extension": ".py",
   "mimetype": "text/x-python",
   "name": "python",
   "nbconvert_exporter": "python",
   "pygments_lexer": "ipython3",
   "version": "3.9.19"
  }
 },
 "nbformat": 4,
 "nbformat_minor": 2
}
